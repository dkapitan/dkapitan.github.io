{
  "cells": [
    {
      "cell_type": "markdown",
      "metadata": {},
      "source": [
        "# Altair\n",
        "\n",
        "A data visualization curriculum of interactive notebooks, using\n",
        "[Vega-Lite](https://vega.github.io/vega-lite/) and\n",
        "[Altair](https://altair-viz.github.io/). This book contains a series of\n",
        "Python-based Jupyter notebooks, a corresponding set of JavaScript\n",
        "notebooks are available online on\n",
        "[Observable](https://observablehq.com/@uwdata/data-visualization-curriculum).\n",
        "\n",
        "## Getting Started\n",
        "\n",
        "The visualization curriculum can be used either online or on your local\n",
        "computer. You can view and interact with the plots directly in this\n",
        "Jupyter Book. If you want to modify the code, you have a few different\n",
        "options:\n",
        "\n",
        "-   To read JavaScript notebooks online using\n",
        "    [Observable](https://observablehq.com/), navigate to the\n",
        "    “Observable” page above and click the corresponding notebook.\n",
        "-   To read Python notebooks locally, follow the instructions below.\n",
        "\n",
        "### Local Installation\n",
        "\n",
        "1.  [Install Altair and a notebook\n",
        "    environment](https://altair-viz.github.io/getting_started/installation.html).\n",
        "    The most recent versions of these notebooks use *Altair version 4*.\n",
        "2.  Download the notebooks from the [releases\n",
        "    page](https://github.com/uwdata/visualization-curriculum/releases).\n",
        "    Typically you will want to use the most recent release. (If you wish\n",
        "    to use notebooks for Altair version 3, download the [Altair v3.2\n",
        "    release](https://github.com/uwdata/visualization-curriculum/releases/tag/altair-v3).)\n",
        "3.  Open the notebooks in your local notebook environment. For example,\n",
        "    if you have JupyterLab installed (v1.0 or higher is required), run\n",
        "    `jupyter lab` within the directory containing the notebooks.\n",
        "\n",
        "Depending on your programming environment (and whether or not you have a\n",
        "live internet connection), you may want to specify a particular\n",
        "[renderer](https://altair-viz.github.io/user_guide/display_frontends.html)\n",
        "for Altair.\n",
        "\n",
        "## Credits\n",
        "\n",
        "Developed at the University of Washington by Jeffrey Heer, Dominik\n",
        "Moritz, Jake VanderPlas, and Brock Craft. Thanks to the [UW Interactive\n",
        "Data Lab](https://idl.cs.washington.edu/) and Arvind Satyanarayan for\n",
        "their valuable input and feedback! Thanks also to the students of [UW\n",
        "CSE512 Spring\n",
        "2019](https://courses.cs.washington.edu/courses/cse512/19sp/), the first\n",
        "group to use these notebooks within an integrated course curriculum."
      ],
      "id": "93c3aac1-5509-467f-b2eb-38a8ed8e51e4"
    }
  ],
  "nbformat": 4,
  "nbformat_minor": 5,
  "metadata": {
    "kernelspec": {
      "display_name": "Python 3",
      "language": "python",
      "name": "python3"
    }
  }
}